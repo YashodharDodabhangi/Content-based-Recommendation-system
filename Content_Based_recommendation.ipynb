{
 "cells": [
  {
   "cell_type": "markdown",
   "metadata": {},
   "source": [
    "## Basic Stats about data"
   ]
  },
  {
   "cell_type": "code",
   "execution_count": 1,
   "metadata": {},
   "outputs": [],
   "source": [
    "#importing essential libraries\n",
    "import pandas as pd\n",
    "import numpy as np\n",
    "import matplotlib.pyplot as plt\n",
    "import seaborn as sns"
   ]
  },
  {
   "cell_type": "code",
   "execution_count": 2,
   "metadata": {},
   "outputs": [],
   "source": [
    "#reading user data\n",
    "user_data = pd.read_csv('user.csv')"
   ]
  },
  {
   "cell_type": "code",
   "execution_count": 3,
   "metadata": {},
   "outputs": [
    {
     "data": {
      "text/html": [
       "<div>\n",
       "<style scoped>\n",
       "    .dataframe tbody tr th:only-of-type {\n",
       "        vertical-align: middle;\n",
       "    }\n",
       "\n",
       "    .dataframe tbody tr th {\n",
       "        vertical-align: top;\n",
       "    }\n",
       "\n",
       "    .dataframe thead th {\n",
       "        text-align: right;\n",
       "    }\n",
       "</style>\n",
       "<table border=\"1\" class=\"dataframe\">\n",
       "  <thead>\n",
       "    <tr style=\"text-align: right;\">\n",
       "      <th></th>\n",
       "      <th>user_id</th>\n",
       "      <th>user_age</th>\n",
       "      <th>gender</th>\n",
       "      <th>location</th>\n",
       "      <th>joining_date</th>\n",
       "    </tr>\n",
       "  </thead>\n",
       "  <tbody>\n",
       "    <tr>\n",
       "      <th>0</th>\n",
       "      <td>user_45028@domain.com</td>\n",
       "      <td>40</td>\n",
       "      <td>M</td>\n",
       "      <td>Goa</td>\n",
       "      <td>2018-06-18</td>\n",
       "    </tr>\n",
       "    <tr>\n",
       "      <th>1</th>\n",
       "      <td>user_95235@domain.com</td>\n",
       "      <td>55</td>\n",
       "      <td>F</td>\n",
       "      <td>Andhra Pradesh</td>\n",
       "      <td>2019-09-17</td>\n",
       "    </tr>\n",
       "    <tr>\n",
       "      <th>2</th>\n",
       "      <td>user_44289@domain.com</td>\n",
       "      <td>38</td>\n",
       "      <td>F</td>\n",
       "      <td>Goa</td>\n",
       "      <td>2018-09-03</td>\n",
       "    </tr>\n",
       "    <tr>\n",
       "      <th>3</th>\n",
       "      <td>user_23708@domain.com</td>\n",
       "      <td>47</td>\n",
       "      <td>F</td>\n",
       "      <td>West Bengal</td>\n",
       "      <td>2020-11-15</td>\n",
       "    </tr>\n",
       "    <tr>\n",
       "      <th>4</th>\n",
       "      <td>user_40584@domain.com</td>\n",
       "      <td>24</td>\n",
       "      <td>M</td>\n",
       "      <td>Tamil Nadu</td>\n",
       "      <td>2018-02-06</td>\n",
       "    </tr>\n",
       "    <tr>\n",
       "      <th>5</th>\n",
       "      <td>user_18216@domain.com</td>\n",
       "      <td>52</td>\n",
       "      <td>F</td>\n",
       "      <td>Gujarat</td>\n",
       "      <td>2020-02-12</td>\n",
       "    </tr>\n",
       "    <tr>\n",
       "      <th>6</th>\n",
       "      <td>user_97032@domain.com</td>\n",
       "      <td>46</td>\n",
       "      <td>F</td>\n",
       "      <td>Karnataka</td>\n",
       "      <td>2020-07-17</td>\n",
       "    </tr>\n",
       "    <tr>\n",
       "      <th>7</th>\n",
       "      <td>user_64366@domain.com</td>\n",
       "      <td>53</td>\n",
       "      <td>F</td>\n",
       "      <td>Uttar Pradesh</td>\n",
       "      <td>2019-10-08</td>\n",
       "    </tr>\n",
       "    <tr>\n",
       "      <th>8</th>\n",
       "      <td>user_71452@domain.com</td>\n",
       "      <td>18</td>\n",
       "      <td>M</td>\n",
       "      <td>Maharashtra</td>\n",
       "      <td>2020-09-26</td>\n",
       "    </tr>\n",
       "    <tr>\n",
       "      <th>9</th>\n",
       "      <td>user_76063@domain.com</td>\n",
       "      <td>20</td>\n",
       "      <td>M</td>\n",
       "      <td>Telangana</td>\n",
       "      <td>2020-07-12</td>\n",
       "    </tr>\n",
       "  </tbody>\n",
       "</table>\n",
       "</div>"
      ],
      "text/plain": [
       "                 user_id  user_age gender        location joining_date\n",
       "0  user_45028@domain.com        40      M             Goa   2018-06-18\n",
       "1  user_95235@domain.com        55      F  Andhra Pradesh   2019-09-17\n",
       "2  user_44289@domain.com        38      F             Goa   2018-09-03\n",
       "3  user_23708@domain.com        47      F     West Bengal   2020-11-15\n",
       "4  user_40584@domain.com        24      M      Tamil Nadu   2018-02-06\n",
       "5  user_18216@domain.com        52      F         Gujarat   2020-02-12\n",
       "6  user_97032@domain.com        46      F       Karnataka   2020-07-17\n",
       "7  user_64366@domain.com        53      F   Uttar Pradesh   2019-10-08\n",
       "8  user_71452@domain.com        18      M     Maharashtra   2020-09-26\n",
       "9  user_76063@domain.com        20      M       Telangana   2020-07-12"
      ]
     },
     "execution_count": 3,
     "metadata": {},
     "output_type": "execute_result"
    }
   ],
   "source": [
    "#printing first 10 rows\n",
    "user_data.head(10)"
   ]
  },
  {
   "cell_type": "code",
   "execution_count": 4,
   "metadata": {},
   "outputs": [
    {
     "name": "stdout",
     "output_type": "stream",
     "text": [
      "number of rows in user_data is 13843\n",
      "number of columns in user_data is 5\n"
     ]
    }
   ],
   "source": [
    "print(\"number of rows in user_data is {}\".format(user_data.shape[0]))\n",
    "print(\"number of columns in user_data is {}\".format(user_data.shape[1]))"
   ]
  },
  {
   "cell_type": "code",
   "execution_count": 5,
   "metadata": {},
   "outputs": [
    {
     "data": {
      "text/html": [
       "<div>\n",
       "<style scoped>\n",
       "    .dataframe tbody tr th:only-of-type {\n",
       "        vertical-align: middle;\n",
       "    }\n",
       "\n",
       "    .dataframe tbody tr th {\n",
       "        vertical-align: top;\n",
       "    }\n",
       "\n",
       "    .dataframe thead th {\n",
       "        text-align: right;\n",
       "    }\n",
       "</style>\n",
       "<table border=\"1\" class=\"dataframe\">\n",
       "  <thead>\n",
       "    <tr style=\"text-align: right;\">\n",
       "      <th></th>\n",
       "      <th>content_id</th>\n",
       "      <th>content_type</th>\n",
       "      <th>language</th>\n",
       "      <th>genre</th>\n",
       "      <th>duration</th>\n",
       "      <th>release_date</th>\n",
       "      <th>rating</th>\n",
       "      <th>episode_count</th>\n",
       "      <th>season_count</th>\n",
       "    </tr>\n",
       "  </thead>\n",
       "  <tbody>\n",
       "    <tr>\n",
       "      <th>0</th>\n",
       "      <td>cont_475_19_32</td>\n",
       "      <td>series</td>\n",
       "      <td>english</td>\n",
       "      <td>drama</td>\n",
       "      <td>4980000</td>\n",
       "      <td>2018-07-01</td>\n",
       "      <td>10</td>\n",
       "      <td>32</td>\n",
       "      <td>19</td>\n",
       "    </tr>\n",
       "    <tr>\n",
       "      <th>1</th>\n",
       "      <td>cont_2185_15_21</td>\n",
       "      <td>series</td>\n",
       "      <td>english</td>\n",
       "      <td>drama</td>\n",
       "      <td>3000000</td>\n",
       "      <td>2016-03-29</td>\n",
       "      <td>4</td>\n",
       "      <td>21</td>\n",
       "      <td>15</td>\n",
       "    </tr>\n",
       "    <tr>\n",
       "      <th>2</th>\n",
       "      <td>cont_4857_13_28</td>\n",
       "      <td>series</td>\n",
       "      <td>tamil</td>\n",
       "      <td>comedy</td>\n",
       "      <td>3120000</td>\n",
       "      <td>2006-03-06</td>\n",
       "      <td>8</td>\n",
       "      <td>28</td>\n",
       "      <td>13</td>\n",
       "    </tr>\n",
       "    <tr>\n",
       "      <th>3</th>\n",
       "      <td>cont_3340_1_5</td>\n",
       "      <td>sports</td>\n",
       "      <td>hindi</td>\n",
       "      <td>cricket</td>\n",
       "      <td>9900000</td>\n",
       "      <td>2009-01-10</td>\n",
       "      <td>0</td>\n",
       "      <td>5</td>\n",
       "      <td>1</td>\n",
       "    </tr>\n",
       "    <tr>\n",
       "      <th>4</th>\n",
       "      <td>cont_1664_10_29</td>\n",
       "      <td>series</td>\n",
       "      <td>hindi</td>\n",
       "      <td>action</td>\n",
       "      <td>3660000</td>\n",
       "      <td>2020-05-25</td>\n",
       "      <td>2</td>\n",
       "      <td>29</td>\n",
       "      <td>10</td>\n",
       "    </tr>\n",
       "    <tr>\n",
       "      <th>5</th>\n",
       "      <td>cont_51_1_37</td>\n",
       "      <td>series</td>\n",
       "      <td>hindi</td>\n",
       "      <td>comedy</td>\n",
       "      <td>3060000</td>\n",
       "      <td>2002-02-04</td>\n",
       "      <td>10</td>\n",
       "      <td>37</td>\n",
       "      <td>1</td>\n",
       "    </tr>\n",
       "    <tr>\n",
       "      <th>6</th>\n",
       "      <td>cont_2208_1_24</td>\n",
       "      <td>series</td>\n",
       "      <td>marathi</td>\n",
       "      <td>drama</td>\n",
       "      <td>3600000</td>\n",
       "      <td>2011-07-09</td>\n",
       "      <td>7</td>\n",
       "      <td>24</td>\n",
       "      <td>1</td>\n",
       "    </tr>\n",
       "    <tr>\n",
       "      <th>7</th>\n",
       "      <td>cont_2679_5_17</td>\n",
       "      <td>series</td>\n",
       "      <td>hindi</td>\n",
       "      <td>comedy</td>\n",
       "      <td>3240000</td>\n",
       "      <td>1994-05-03</td>\n",
       "      <td>7</td>\n",
       "      <td>17</td>\n",
       "      <td>5</td>\n",
       "    </tr>\n",
       "    <tr>\n",
       "      <th>8</th>\n",
       "      <td>cont_4790_4_19</td>\n",
       "      <td>series</td>\n",
       "      <td>marathi</td>\n",
       "      <td>drama</td>\n",
       "      <td>3060000</td>\n",
       "      <td>2020-12-18</td>\n",
       "      <td>1</td>\n",
       "      <td>19</td>\n",
       "      <td>4</td>\n",
       "    </tr>\n",
       "    <tr>\n",
       "      <th>9</th>\n",
       "      <td>cont_1437_5_25</td>\n",
       "      <td>series</td>\n",
       "      <td>hindi</td>\n",
       "      <td>comedy</td>\n",
       "      <td>2880000</td>\n",
       "      <td>2002-05-27</td>\n",
       "      <td>1</td>\n",
       "      <td>25</td>\n",
       "      <td>5</td>\n",
       "    </tr>\n",
       "  </tbody>\n",
       "</table>\n",
       "</div>"
      ],
      "text/plain": [
       "        content_id content_type language    genre  duration release_date  \\\n",
       "0   cont_475_19_32       series  english    drama   4980000   2018-07-01   \n",
       "1  cont_2185_15_21       series  english    drama   3000000   2016-03-29   \n",
       "2  cont_4857_13_28       series    tamil   comedy   3120000   2006-03-06   \n",
       "3    cont_3340_1_5       sports    hindi  cricket   9900000   2009-01-10   \n",
       "4  cont_1664_10_29       series    hindi   action   3660000   2020-05-25   \n",
       "5     cont_51_1_37       series    hindi   comedy   3060000   2002-02-04   \n",
       "6   cont_2208_1_24       series  marathi    drama   3600000   2011-07-09   \n",
       "7   cont_2679_5_17       series    hindi   comedy   3240000   1994-05-03   \n",
       "8   cont_4790_4_19       series  marathi    drama   3060000   2020-12-18   \n",
       "9   cont_1437_5_25       series    hindi   comedy   2880000   2002-05-27   \n",
       "\n",
       "   rating  episode_count  season_count  \n",
       "0      10             32            19  \n",
       "1       4             21            15  \n",
       "2       8             28            13  \n",
       "3       0              5             1  \n",
       "4       2             29            10  \n",
       "5      10             37             1  \n",
       "6       7             24             1  \n",
       "7       7             17             5  \n",
       "8       1             19             4  \n",
       "9       1             25             5  "
      ]
     },
     "execution_count": 5,
     "metadata": {},
     "output_type": "execute_result"
    }
   ],
   "source": [
    "#reading content data\n",
    "content_data = pd.read_csv('content.csv')\n",
    "content_data.head(10)"
   ]
  },
  {
   "cell_type": "code",
   "execution_count": 6,
   "metadata": {},
   "outputs": [],
   "source": [
    "#renaming the column duration to content_duration\n",
    "content_data.rename(columns={'duration':'content_duration'},inplace = True)"
   ]
  },
  {
   "cell_type": "code",
   "execution_count": 7,
   "metadata": {},
   "outputs": [
    {
     "name": "stdout",
     "output_type": "stream",
     "text": [
      "number of rows in content_data is 48645\n",
      "number of columns in content_data is 9\n"
     ]
    }
   ],
   "source": [
    "print(\"number of rows in content_data is {}\".format(content_data.shape[0]))\n",
    "print(\"number of columns in content_data is {}\".format(content_data.shape[1]))"
   ]
  },
  {
   "cell_type": "markdown",
   "metadata": {},
   "source": [
    "## Make dataset ready using relationship.csv"
   ]
  },
  {
   "cell_type": "code",
   "execution_count": 8,
   "metadata": {},
   "outputs": [
    {
     "data": {
      "text/html": [
       "<div>\n",
       "<style scoped>\n",
       "    .dataframe tbody tr th:only-of-type {\n",
       "        vertical-align: middle;\n",
       "    }\n",
       "\n",
       "    .dataframe tbody tr th {\n",
       "        vertical-align: top;\n",
       "    }\n",
       "\n",
       "    .dataframe thead th {\n",
       "        text-align: right;\n",
       "    }\n",
       "</style>\n",
       "<table border=\"1\" class=\"dataframe\">\n",
       "  <thead>\n",
       "    <tr style=\"text-align: right;\">\n",
       "      <th></th>\n",
       "      <th>user_id</th>\n",
       "      <th>content_id</th>\n",
       "      <th>duration</th>\n",
       "      <th>date</th>\n",
       "      <th>start_time</th>\n",
       "      <th>end_time</th>\n",
       "    </tr>\n",
       "  </thead>\n",
       "  <tbody>\n",
       "    <tr>\n",
       "      <th>0</th>\n",
       "      <td>user_44902@domain.com</td>\n",
       "      <td>cont_1718_16_7</td>\n",
       "      <td>1920000</td>\n",
       "      <td>2020-06-17</td>\n",
       "      <td>06:19:13</td>\n",
       "      <td>06:51:13</td>\n",
       "    </tr>\n",
       "    <tr>\n",
       "      <th>1</th>\n",
       "      <td>user_87018@domain.com</td>\n",
       "      <td>cont_825_1_3</td>\n",
       "      <td>1080000</td>\n",
       "      <td>2019-12-06</td>\n",
       "      <td>19:58:14</td>\n",
       "      <td>20:16:14</td>\n",
       "    </tr>\n",
       "    <tr>\n",
       "      <th>2</th>\n",
       "      <td>user_53430@domain.com</td>\n",
       "      <td>cont_1981_2_26</td>\n",
       "      <td>180000</td>\n",
       "      <td>2020-07-27</td>\n",
       "      <td>01:52:51</td>\n",
       "      <td>01:55:51</td>\n",
       "    </tr>\n",
       "    <tr>\n",
       "      <th>3</th>\n",
       "      <td>user_53696@domain.com</td>\n",
       "      <td>cont_1072_18_7</td>\n",
       "      <td>1440000</td>\n",
       "      <td>2021-08-24</td>\n",
       "      <td>06:34:14</td>\n",
       "      <td>06:58:14</td>\n",
       "    </tr>\n",
       "    <tr>\n",
       "      <th>4</th>\n",
       "      <td>user_80251@domain.com</td>\n",
       "      <td>cont_760_9_27</td>\n",
       "      <td>960000</td>\n",
       "      <td>2020-06-15</td>\n",
       "      <td>16:57:19</td>\n",
       "      <td>17:13:19</td>\n",
       "    </tr>\n",
       "    <tr>\n",
       "      <th>5</th>\n",
       "      <td>user_52275@domain.com</td>\n",
       "      <td>cont_480_1_4</td>\n",
       "      <td>3000000</td>\n",
       "      <td>2021-08-21</td>\n",
       "      <td>18:07:58</td>\n",
       "      <td>18:57:58</td>\n",
       "    </tr>\n",
       "    <tr>\n",
       "      <th>6</th>\n",
       "      <td>user_99776@domain.com</td>\n",
       "      <td>cont_2719_6_11</td>\n",
       "      <td>1980000</td>\n",
       "      <td>2021-02-26</td>\n",
       "      <td>19:53:59</td>\n",
       "      <td>20:26:59</td>\n",
       "    </tr>\n",
       "    <tr>\n",
       "      <th>7</th>\n",
       "      <td>user_10182@domain.com</td>\n",
       "      <td>cont_2194_3_26</td>\n",
       "      <td>2760000</td>\n",
       "      <td>2021-03-23</td>\n",
       "      <td>15:06:17</td>\n",
       "      <td>15:52:17</td>\n",
       "    </tr>\n",
       "    <tr>\n",
       "      <th>8</th>\n",
       "      <td>user_90503@domain.com</td>\n",
       "      <td>cont_3023_2_23</td>\n",
       "      <td>840000</td>\n",
       "      <td>2020-08-31</td>\n",
       "      <td>05:11:41</td>\n",
       "      <td>05:25:41</td>\n",
       "    </tr>\n",
       "    <tr>\n",
       "      <th>9</th>\n",
       "      <td>user_13848@domain.com</td>\n",
       "      <td>cont_3815_1_5</td>\n",
       "      <td>4740000</td>\n",
       "      <td>2019-10-22</td>\n",
       "      <td>00:21:15</td>\n",
       "      <td>01:40:15</td>\n",
       "    </tr>\n",
       "  </tbody>\n",
       "</table>\n",
       "</div>"
      ],
      "text/plain": [
       "                 user_id      content_id  duration        date start_time  \\\n",
       "0  user_44902@domain.com  cont_1718_16_7   1920000  2020-06-17   06:19:13   \n",
       "1  user_87018@domain.com    cont_825_1_3   1080000  2019-12-06   19:58:14   \n",
       "2  user_53430@domain.com  cont_1981_2_26    180000  2020-07-27   01:52:51   \n",
       "3  user_53696@domain.com  cont_1072_18_7   1440000  2021-08-24   06:34:14   \n",
       "4  user_80251@domain.com   cont_760_9_27    960000  2020-06-15   16:57:19   \n",
       "5  user_52275@domain.com    cont_480_1_4   3000000  2021-08-21   18:07:58   \n",
       "6  user_99776@domain.com  cont_2719_6_11   1980000  2021-02-26   19:53:59   \n",
       "7  user_10182@domain.com  cont_2194_3_26   2760000  2021-03-23   15:06:17   \n",
       "8  user_90503@domain.com  cont_3023_2_23    840000  2020-08-31   05:11:41   \n",
       "9  user_13848@domain.com   cont_3815_1_5   4740000  2019-10-22   00:21:15   \n",
       "\n",
       "   end_time  \n",
       "0  06:51:13  \n",
       "1  20:16:14  \n",
       "2  01:55:51  \n",
       "3  06:58:14  \n",
       "4  17:13:19  \n",
       "5  18:57:58  \n",
       "6  20:26:59  \n",
       "7  15:52:17  \n",
       "8  05:25:41  \n",
       "9  01:40:15  "
      ]
     },
     "execution_count": 8,
     "metadata": {},
     "output_type": "execute_result"
    }
   ],
   "source": [
    "#reading relationship.csv\n",
    "relation_data = pd.read_csv('relationship.csv')\n",
    "relation_data.head(10)"
   ]
  },
  {
   "cell_type": "code",
   "execution_count": 9,
   "metadata": {},
   "outputs": [
    {
     "data": {
      "text/plain": [
       "(1654450, 6)"
      ]
     },
     "execution_count": 9,
     "metadata": {},
     "output_type": "execute_result"
    }
   ],
   "source": [
    "relation_data.shape"
   ]
  },
  {
   "cell_type": "code",
   "execution_count": 10,
   "metadata": {},
   "outputs": [],
   "source": [
    "#inner join on user_data and relation_data to get all columns of user_data\n",
    "merged_df = pd.merge(user_data,relation_data,how = 'inner',on = 'user_id')"
   ]
  },
  {
   "cell_type": "code",
   "execution_count": 11,
   "metadata": {},
   "outputs": [
    {
     "data": {
      "text/plain": [
       "Index(['user_id', 'user_age', 'gender', 'location', 'joining_date',\n",
       "       'content_id', 'duration', 'date', 'start_time', 'end_time'],\n",
       "      dtype='object')"
      ]
     },
     "execution_count": 11,
     "metadata": {},
     "output_type": "execute_result"
    }
   ],
   "source": [
    "merged_df.columns"
   ]
  },
  {
   "cell_type": "code",
   "execution_count": 12,
   "metadata": {},
   "outputs": [
    {
     "data": {
      "text/plain": [
       "(1654450, 18)"
      ]
     },
     "execution_count": 12,
     "metadata": {},
     "output_type": "execute_result"
    }
   ],
   "source": [
    "#inner join on merged_data and content_data\n",
    "merged_final = pd.merge(merged_df,content_data,how = 'inner',on = \"content_id\")\n",
    "merged_final.shape"
   ]
  },
  {
   "cell_type": "code",
   "execution_count": 13,
   "metadata": {},
   "outputs": [
    {
     "data": {
      "text/plain": [
       "Index(['user_id', 'user_age', 'gender', 'location', 'joining_date',\n",
       "       'content_id', 'duration', 'date', 'start_time', 'end_time',\n",
       "       'content_type', 'language', 'genre', 'content_duration', 'release_date',\n",
       "       'rating', 'episode_count', 'season_count'],\n",
       "      dtype='object')"
      ]
     },
     "execution_count": 13,
     "metadata": {},
     "output_type": "execute_result"
    }
   ],
   "source": [
    "#final dataset columns\n",
    "merged_final.columns"
   ]
  },
  {
   "cell_type": "markdown",
   "metadata": {},
   "source": [
    "# Exploratory Data Analysis"
   ]
  },
  {
   "cell_type": "code",
   "execution_count": 14,
   "metadata": {},
   "outputs": [
    {
     "data": {
      "text/html": [
       "<div>\n",
       "<style scoped>\n",
       "    .dataframe tbody tr th:only-of-type {\n",
       "        vertical-align: middle;\n",
       "    }\n",
       "\n",
       "    .dataframe tbody tr th {\n",
       "        vertical-align: top;\n",
       "    }\n",
       "\n",
       "    .dataframe thead th {\n",
       "        text-align: right;\n",
       "    }\n",
       "</style>\n",
       "<table border=\"1\" class=\"dataframe\">\n",
       "  <thead>\n",
       "    <tr style=\"text-align: right;\">\n",
       "      <th></th>\n",
       "      <th>user_id</th>\n",
       "      <th>user_age</th>\n",
       "      <th>gender</th>\n",
       "      <th>location</th>\n",
       "      <th>joining_date</th>\n",
       "      <th>content_id</th>\n",
       "      <th>duration</th>\n",
       "      <th>date</th>\n",
       "      <th>start_time</th>\n",
       "      <th>end_time</th>\n",
       "      <th>content_type</th>\n",
       "      <th>language</th>\n",
       "      <th>genre</th>\n",
       "      <th>content_duration</th>\n",
       "      <th>release_date</th>\n",
       "      <th>rating</th>\n",
       "      <th>episode_count</th>\n",
       "      <th>season_count</th>\n",
       "    </tr>\n",
       "  </thead>\n",
       "  <tbody>\n",
       "    <tr>\n",
       "      <th>0</th>\n",
       "      <td>user_44289@domain.com</td>\n",
       "      <td>38</td>\n",
       "      <td>F</td>\n",
       "      <td>Goa</td>\n",
       "      <td>2018-09-03</td>\n",
       "      <td>cont_3375_16_10</td>\n",
       "      <td>2220000</td>\n",
       "      <td>2020-06-03</td>\n",
       "      <td>18:47:17</td>\n",
       "      <td>19:24:17</td>\n",
       "      <td>series</td>\n",
       "      <td>english</td>\n",
       "      <td>action</td>\n",
       "      <td>3060000</td>\n",
       "      <td>2015-11-16</td>\n",
       "      <td>5</td>\n",
       "      <td>10</td>\n",
       "      <td>16</td>\n",
       "    </tr>\n",
       "    <tr>\n",
       "      <th>1</th>\n",
       "      <td>user_29171@domain.com</td>\n",
       "      <td>46</td>\n",
       "      <td>M</td>\n",
       "      <td>Odisa</td>\n",
       "      <td>2019-06-18</td>\n",
       "      <td>cont_3375_16_10</td>\n",
       "      <td>1980000</td>\n",
       "      <td>2021-06-24</td>\n",
       "      <td>00:30:37</td>\n",
       "      <td>01:03:37</td>\n",
       "      <td>series</td>\n",
       "      <td>english</td>\n",
       "      <td>action</td>\n",
       "      <td>3060000</td>\n",
       "      <td>2015-11-16</td>\n",
       "      <td>5</td>\n",
       "      <td>10</td>\n",
       "      <td>16</td>\n",
       "    </tr>\n",
       "    <tr>\n",
       "      <th>2</th>\n",
       "      <td>user_91037@domain.com</td>\n",
       "      <td>16</td>\n",
       "      <td>F</td>\n",
       "      <td>Maharashtra</td>\n",
       "      <td>2017-10-26</td>\n",
       "      <td>cont_3375_16_10</td>\n",
       "      <td>2580000</td>\n",
       "      <td>2018-04-02</td>\n",
       "      <td>22:56:40</td>\n",
       "      <td>23:39:40</td>\n",
       "      <td>series</td>\n",
       "      <td>english</td>\n",
       "      <td>action</td>\n",
       "      <td>3060000</td>\n",
       "      <td>2015-11-16</td>\n",
       "      <td>5</td>\n",
       "      <td>10</td>\n",
       "      <td>16</td>\n",
       "    </tr>\n",
       "    <tr>\n",
       "      <th>3</th>\n",
       "      <td>user_78324@domain.com</td>\n",
       "      <td>53</td>\n",
       "      <td>F</td>\n",
       "      <td>Andhra Pradesh</td>\n",
       "      <td>2018-03-16</td>\n",
       "      <td>cont_3375_16_10</td>\n",
       "      <td>420000</td>\n",
       "      <td>2020-12-02</td>\n",
       "      <td>12:23:56</td>\n",
       "      <td>12:30:56</td>\n",
       "      <td>series</td>\n",
       "      <td>english</td>\n",
       "      <td>action</td>\n",
       "      <td>3060000</td>\n",
       "      <td>2015-11-16</td>\n",
       "      <td>5</td>\n",
       "      <td>10</td>\n",
       "      <td>16</td>\n",
       "    </tr>\n",
       "    <tr>\n",
       "      <th>4</th>\n",
       "      <td>user_69522@domain.com</td>\n",
       "      <td>21</td>\n",
       "      <td>M</td>\n",
       "      <td>Karnataka</td>\n",
       "      <td>2019-06-30</td>\n",
       "      <td>cont_3375_16_10</td>\n",
       "      <td>1380000</td>\n",
       "      <td>2021-03-29</td>\n",
       "      <td>21:19:41</td>\n",
       "      <td>21:42:41</td>\n",
       "      <td>series</td>\n",
       "      <td>english</td>\n",
       "      <td>action</td>\n",
       "      <td>3060000</td>\n",
       "      <td>2015-11-16</td>\n",
       "      <td>5</td>\n",
       "      <td>10</td>\n",
       "      <td>16</td>\n",
       "    </tr>\n",
       "  </tbody>\n",
       "</table>\n",
       "</div>"
      ],
      "text/plain": [
       "                 user_id  user_age gender        location joining_date  \\\n",
       "0  user_44289@domain.com        38      F             Goa   2018-09-03   \n",
       "1  user_29171@domain.com        46      M           Odisa   2019-06-18   \n",
       "2  user_91037@domain.com        16      F     Maharashtra   2017-10-26   \n",
       "3  user_78324@domain.com        53      F  Andhra Pradesh   2018-03-16   \n",
       "4  user_69522@domain.com        21      M       Karnataka   2019-06-30   \n",
       "\n",
       "        content_id  duration        date start_time  end_time content_type  \\\n",
       "0  cont_3375_16_10   2220000  2020-06-03   18:47:17  19:24:17       series   \n",
       "1  cont_3375_16_10   1980000  2021-06-24   00:30:37  01:03:37       series   \n",
       "2  cont_3375_16_10   2580000  2018-04-02   22:56:40  23:39:40       series   \n",
       "3  cont_3375_16_10    420000  2020-12-02   12:23:56  12:30:56       series   \n",
       "4  cont_3375_16_10   1380000  2021-03-29   21:19:41  21:42:41       series   \n",
       "\n",
       "  language   genre  content_duration release_date  rating  episode_count  \\\n",
       "0  english  action           3060000   2015-11-16       5             10   \n",
       "1  english  action           3060000   2015-11-16       5             10   \n",
       "2  english  action           3060000   2015-11-16       5             10   \n",
       "3  english  action           3060000   2015-11-16       5             10   \n",
       "4  english  action           3060000   2015-11-16       5             10   \n",
       "\n",
       "   season_count  \n",
       "0            16  \n",
       "1            16  \n",
       "2            16  \n",
       "3            16  \n",
       "4            16  "
      ]
     },
     "execution_count": 14,
     "metadata": {},
     "output_type": "execute_result"
    }
   ],
   "source": [
    "merged_final.head(5)"
   ]
  },
  {
   "cell_type": "code",
   "execution_count": 15,
   "metadata": {},
   "outputs": [
    {
     "data": {
      "text/html": [
       "<div>\n",
       "<style scoped>\n",
       "    .dataframe tbody tr th:only-of-type {\n",
       "        vertical-align: middle;\n",
       "    }\n",
       "\n",
       "    .dataframe tbody tr th {\n",
       "        vertical-align: top;\n",
       "    }\n",
       "\n",
       "    .dataframe thead th {\n",
       "        text-align: right;\n",
       "    }\n",
       "</style>\n",
       "<table border=\"1\" class=\"dataframe\">\n",
       "  <thead>\n",
       "    <tr style=\"text-align: right;\">\n",
       "      <th></th>\n",
       "      <th>user_age</th>\n",
       "      <th>duration</th>\n",
       "      <th>content_duration</th>\n",
       "      <th>rating</th>\n",
       "      <th>episode_count</th>\n",
       "      <th>season_count</th>\n",
       "    </tr>\n",
       "  </thead>\n",
       "  <tbody>\n",
       "    <tr>\n",
       "      <th>count</th>\n",
       "      <td>1.654450e+06</td>\n",
       "      <td>1.654450e+06</td>\n",
       "      <td>1.654450e+06</td>\n",
       "      <td>1.654450e+06</td>\n",
       "      <td>1.654450e+06</td>\n",
       "      <td>1.654450e+06</td>\n",
       "    </tr>\n",
       "    <tr>\n",
       "      <th>mean</th>\n",
       "      <td>3.812572e+01</td>\n",
       "      <td>1.812842e+06</td>\n",
       "      <td>3.567260e+06</td>\n",
       "      <td>4.970632e+00</td>\n",
       "      <td>1.586375e+01</td>\n",
       "      <td>6.620199e+00</td>\n",
       "    </tr>\n",
       "    <tr>\n",
       "      <th>std</th>\n",
       "      <td>1.290478e+01</td>\n",
       "      <td>1.165702e+06</td>\n",
       "      <td>9.479318e+05</td>\n",
       "      <td>3.132943e+00</td>\n",
       "      <td>1.251110e+01</td>\n",
       "      <td>6.197996e+00</td>\n",
       "    </tr>\n",
       "    <tr>\n",
       "      <th>min</th>\n",
       "      <td>1.600000e+01</td>\n",
       "      <td>6.000000e+04</td>\n",
       "      <td>6.000000e+04</td>\n",
       "      <td>0.000000e+00</td>\n",
       "      <td>0.000000e+00</td>\n",
       "      <td>0.000000e+00</td>\n",
       "    </tr>\n",
       "    <tr>\n",
       "      <th>25%</th>\n",
       "      <td>2.700000e+01</td>\n",
       "      <td>9.000000e+05</td>\n",
       "      <td>3.000000e+06</td>\n",
       "      <td>2.000000e+00</td>\n",
       "      <td>6.000000e+00</td>\n",
       "      <td>2.000000e+00</td>\n",
       "    </tr>\n",
       "    <tr>\n",
       "      <th>50%</th>\n",
       "      <td>3.800000e+01</td>\n",
       "      <td>1.740000e+06</td>\n",
       "      <td>3.360000e+06</td>\n",
       "      <td>5.000000e+00</td>\n",
       "      <td>1.300000e+01</td>\n",
       "      <td>5.000000e+00</td>\n",
       "    </tr>\n",
       "    <tr>\n",
       "      <th>75%</th>\n",
       "      <td>4.900000e+01</td>\n",
       "      <td>2.580000e+06</td>\n",
       "      <td>3.840000e+06</td>\n",
       "      <td>8.000000e+00</td>\n",
       "      <td>2.300000e+01</td>\n",
       "      <td>9.000000e+00</td>\n",
       "    </tr>\n",
       "    <tr>\n",
       "      <th>max</th>\n",
       "      <td>6.000000e+01</td>\n",
       "      <td>1.086000e+07</td>\n",
       "      <td>1.110000e+07</td>\n",
       "      <td>1.000000e+01</td>\n",
       "      <td>6.000000e+01</td>\n",
       "      <td>4.400000e+01</td>\n",
       "    </tr>\n",
       "  </tbody>\n",
       "</table>\n",
       "</div>"
      ],
      "text/plain": [
       "           user_age      duration  content_duration        rating  \\\n",
       "count  1.654450e+06  1.654450e+06      1.654450e+06  1.654450e+06   \n",
       "mean   3.812572e+01  1.812842e+06      3.567260e+06  4.970632e+00   \n",
       "std    1.290478e+01  1.165702e+06      9.479318e+05  3.132943e+00   \n",
       "min    1.600000e+01  6.000000e+04      6.000000e+04  0.000000e+00   \n",
       "25%    2.700000e+01  9.000000e+05      3.000000e+06  2.000000e+00   \n",
       "50%    3.800000e+01  1.740000e+06      3.360000e+06  5.000000e+00   \n",
       "75%    4.900000e+01  2.580000e+06      3.840000e+06  8.000000e+00   \n",
       "max    6.000000e+01  1.086000e+07      1.110000e+07  1.000000e+01   \n",
       "\n",
       "       episode_count  season_count  \n",
       "count   1.654450e+06  1.654450e+06  \n",
       "mean    1.586375e+01  6.620199e+00  \n",
       "std     1.251110e+01  6.197996e+00  \n",
       "min     0.000000e+00  0.000000e+00  \n",
       "25%     6.000000e+00  2.000000e+00  \n",
       "50%     1.300000e+01  5.000000e+00  \n",
       "75%     2.300000e+01  9.000000e+00  \n",
       "max     6.000000e+01  4.400000e+01  "
      ]
     },
     "execution_count": 15,
     "metadata": {},
     "output_type": "execute_result"
    }
   ],
   "source": [
    "merged_final.describe()"
   ]
  },
  {
   "cell_type": "markdown",
   "metadata": {},
   "source": [
    "## observations "
   ]
  },
  {
   "cell_type": "markdown",
   "metadata": {},
   "source": [
    "### 1.From above table user age lies between 16 to 60 and mean age of the user is 38\n",
    "### 2.On an average user watch hours is 30min approx  , minimum watch hours is 1min approx ,maximum watch hour is 181 min.\n",
    "### 3.on an average content_duration is 60 min approx, minimum watch duration is 1 min ,maximum duration is 185 minutes.\n",
    "### 4. on an average user rating is 5 and minimum rating given by user is 0 and maximum is 10.\n",
    "### 5. On an average there are 16 episodes and maximum episodes are 60.\n",
    "### 6. on an average there are 6 seasons and maximum 44 seasons.\n",
    "### 7. since all mean and medians i.e 50 percentiles are almost same there are no outliers present. but we can checkout further with box plots."
   ]
  },
  {
   "cell_type": "code",
   "execution_count": 16,
   "metadata": {},
   "outputs": [
    {
     "name": "stdout",
     "output_type": "stream",
     "text": [
      "<class 'pandas.core.frame.DataFrame'>\n",
      "Int64Index: 1654450 entries, 0 to 1654449\n",
      "Data columns (total 18 columns):\n",
      " #   Column            Non-Null Count    Dtype \n",
      "---  ------            --------------    ----- \n",
      " 0   user_id           1654450 non-null  object\n",
      " 1   user_age          1654450 non-null  int64 \n",
      " 2   gender            1654450 non-null  object\n",
      " 3   location          1654450 non-null  object\n",
      " 4   joining_date      1654450 non-null  object\n",
      " 5   content_id        1654450 non-null  object\n",
      " 6   duration          1654450 non-null  int64 \n",
      " 7   date              1654450 non-null  object\n",
      " 8   start_time        1654450 non-null  object\n",
      " 9   end_time          1654450 non-null  object\n",
      " 10  content_type      1654450 non-null  object\n",
      " 11  language          1654450 non-null  object\n",
      " 12  genre             1654450 non-null  object\n",
      " 13  content_duration  1654450 non-null  int64 \n",
      " 14  release_date      1654450 non-null  object\n",
      " 15  rating            1654450 non-null  int64 \n",
      " 16  episode_count     1654450 non-null  int64 \n",
      " 17  season_count      1654450 non-null  int64 \n",
      "dtypes: int64(6), object(12)\n",
      "memory usage: 239.8+ MB\n"
     ]
    }
   ],
   "source": [
    "#info about data\n",
    "merged_final.info()"
   ]
  },
  {
   "cell_type": "markdown",
   "metadata": {},
   "source": [
    "There are no null values present in it"
   ]
  },
  {
   "cell_type": "code",
   "execution_count": 17,
   "metadata": {},
   "outputs": [
    {
     "data": {
      "text/plain": [
       "(6945, 18)"
      ]
     },
     "execution_count": 17,
     "metadata": {},
     "output_type": "execute_result"
    }
   ],
   "source": [
    "#found out that there are episode count and season count are zeros\n",
    "#season count and episode count can not be zero\n",
    "#so removing the rows in which season and episode count are zeros\n",
    "merged_final[merged_final['season_count'] == 0 ].shape"
   ]
  },
  {
   "cell_type": "markdown",
   "metadata": {},
   "source": [
    "There are 6945 rows which are season count as zero"
   ]
  },
  {
   "cell_type": "code",
   "execution_count": 18,
   "metadata": {},
   "outputs": [],
   "source": [
    "merged_final.drop(merged_final[merged_final['season_count'] == 0 ].index,inplace = True)\n"
   ]
  },
  {
   "cell_type": "code",
   "execution_count": 19,
   "metadata": {},
   "outputs": [
    {
     "data": {
      "text/plain": [
       "(1647505, 18)"
      ]
     },
     "execution_count": 19,
     "metadata": {},
     "output_type": "execute_result"
    }
   ],
   "source": [
    "#after removing the rows shape will be\n",
    "merged_final.shape"
   ]
  },
  {
   "cell_type": "code",
   "execution_count": 20,
   "metadata": {},
   "outputs": [
    {
     "data": {
      "text/plain": [
       "0"
      ]
     },
     "execution_count": 20,
     "metadata": {},
     "output_type": "execute_result"
    }
   ],
   "source": [
    "#checking if any duplicate rows present or not\n",
    "merged_final.duplicated().sum()"
   ]
  },
  {
   "cell_type": "code",
   "execution_count": 21,
   "metadata": {},
   "outputs": [],
   "source": [
    "from sklearn.preprocessing import StandardScaler,OneHotEncoder"
   ]
  },
  {
   "cell_type": "code",
   "execution_count": 22,
   "metadata": {},
   "outputs": [],
   "source": [
    "def vectorize_categorical(data):\n",
    "    o = OneHotEncoder()\n",
    "    vect = o.fit_transform(data.values.reshape(-1,1))\n",
    "    return vect\n",
    "\n",
    "def vectorize_numerical(data):\n",
    "    s = StandardScaler()\n",
    "    vect = s.fit_transform(data.values.reshape(-1,1))\n",
    "    return vect"
   ]
  },
  {
   "cell_type": "markdown",
   "metadata": {},
   "source": [
    "Taking only certain columns which are useful in recommendation"
   ]
  },
  {
   "cell_type": "code",
   "execution_count": 23,
   "metadata": {},
   "outputs": [
    {
     "data": {
      "text/plain": [
       "count    1.647505e+06\n",
       "mean     3.812545e+01\n",
       "std      1.290479e+01\n",
       "min      1.600000e+01\n",
       "25%      2.700000e+01\n",
       "50%      3.800000e+01\n",
       "75%      4.900000e+01\n",
       "max      6.000000e+01\n",
       "Name: user_age, dtype: float64"
      ]
     },
     "execution_count": 23,
     "metadata": {},
     "output_type": "execute_result"
    }
   ],
   "source": [
    "#vectorizing the faetures\n",
    "#user_age\n",
    "merged_final['user_age'].describe()"
   ]
  },
  {
   "cell_type": "code",
   "execution_count": 24,
   "metadata": {},
   "outputs": [],
   "source": [
    "#user_age\n",
    "vect_age = vectorize_numerical(merged_final['user_age'])"
   ]
  },
  {
   "cell_type": "code",
   "execution_count": 25,
   "metadata": {},
   "outputs": [
    {
     "data": {
      "text/plain": [
       "count       1647505\n",
       "unique           29\n",
       "top       Karnataka\n",
       "freq         226580\n",
       "Name: location, dtype: object"
      ]
     },
     "execution_count": 25,
     "metadata": {},
     "output_type": "execute_result"
    }
   ],
   "source": [
    "#location\n",
    "merged_final['location'].describe()"
   ]
  },
  {
   "cell_type": "code",
   "execution_count": 26,
   "metadata": {},
   "outputs": [],
   "source": [
    "vect_location = vectorize_categorical(merged_final['location'])"
   ]
  },
  {
   "cell_type": "code",
   "execution_count": 27,
   "metadata": {},
   "outputs": [
    {
     "data": {
      "text/plain": [
       "count    1.647505e+06\n",
       "mean     1.810053e+06\n",
       "std      1.157088e+06\n",
       "min      6.000000e+04\n",
       "25%      9.000000e+05\n",
       "50%      1.740000e+06\n",
       "75%      2.580000e+06\n",
       "max      1.086000e+07\n",
       "Name: duration, dtype: float64"
      ]
     },
     "execution_count": 27,
     "metadata": {},
     "output_type": "execute_result"
    }
   ],
   "source": [
    "#duration\n",
    "merged_final['duration'].describe()"
   ]
  },
  {
   "cell_type": "code",
   "execution_count": 28,
   "metadata": {},
   "outputs": [],
   "source": [
    "vect_duration = vectorize_numerical(merged_final['duration'])"
   ]
  },
  {
   "cell_type": "code",
   "execution_count": 29,
   "metadata": {},
   "outputs": [],
   "source": [
    "#content_type\n",
    "merged_final['content_type'].describe()\n",
    "vect_content_type = vectorize_categorical(merged_final['content_type'])"
   ]
  },
  {
   "cell_type": "code",
   "execution_count": 30,
   "metadata": {},
   "outputs": [],
   "source": [
    "#language\n",
    "merged_final['language'].describe()\n",
    "vect_language = vectorize_categorical(merged_final['language'])"
   ]
  },
  {
   "cell_type": "code",
   "execution_count": 31,
   "metadata": {},
   "outputs": [
    {
     "data": {
      "text/plain": [
       "(1647505, 11)"
      ]
     },
     "execution_count": 31,
     "metadata": {},
     "output_type": "execute_result"
    }
   ],
   "source": [
    "vect_language.shape"
   ]
  },
  {
   "cell_type": "code",
   "execution_count": 32,
   "metadata": {},
   "outputs": [],
   "source": [
    "#genre\n",
    "merged_final['genre'].describe()\n",
    "vect_genre = vectorize_categorical(merged_final['genre'])"
   ]
  },
  {
   "cell_type": "code",
   "execution_count": 39,
   "metadata": {},
   "outputs": [],
   "source": [
    "#rating\n",
    "merged_final['rating'].describe()\n",
    "vect_rating = vectorize_categorical(merged_final['rating'])"
   ]
  },
  {
   "cell_type": "code",
   "execution_count": 34,
   "metadata": {},
   "outputs": [],
   "source": [
    "#content_duration\n",
    "merged_final['content_duration'].describe()\n",
    "vect_content_duration = vectorize_numerical(merged_final['content_duration'])"
   ]
  },
  {
   "cell_type": "code",
   "execution_count": 35,
   "metadata": {},
   "outputs": [],
   "source": [
    "#episode_count\n",
    "merged_final['episode_count'].describe()\n",
    "vect_episode_count = vectorize_numerical(merged_final['episode_count'])"
   ]
  },
  {
   "cell_type": "code",
   "execution_count": 36,
   "metadata": {},
   "outputs": [],
   "source": [
    "#season_count\n",
    "merged_final['season_count'].describe()\n",
    "vect_season_count = vectorize_numerical(merged_final['season_count'])"
   ]
  },
  {
   "cell_type": "code",
   "execution_count": 37,
   "metadata": {},
   "outputs": [
    {
     "data": {
      "text/plain": [
       "(1647505, 1)"
      ]
     },
     "execution_count": 37,
     "metadata": {},
     "output_type": "execute_result"
    }
   ],
   "source": [
    "vect_season_count.shape"
   ]
  },
  {
   "cell_type": "code",
   "execution_count": 40,
   "metadata": {},
   "outputs": [],
   "source": [
    "#stacking all features\n",
    "\n",
    "x = np.hstack((vect_age,vect_duration,vect_rating.todense(),vect_content_duration,vect_episode_count,vect_season_count,vect_location.todense(),vect_content_type.todense(),vect_language.todense(),vect_genre.todense()))"
   ]
  },
  {
   "cell_type": "code",
   "execution_count": 41,
   "metadata": {},
   "outputs": [
    {
     "data": {
      "text/plain": [
       "(1647505, 70)"
      ]
     },
     "execution_count": 41,
     "metadata": {},
     "output_type": "execute_result"
    }
   ],
   "source": [
    "x.shape"
   ]
  },
  {
   "cell_type": "code",
   "execution_count": null,
   "metadata": {},
   "outputs": [],
   "source": [
    "#computing cosine similarity\n",
    "from sklearn.metrics.pairwise import cosine_similarity\n",
    "sim_matrix = cosine_similarity(data_x)"
   ]
  },
  {
   "cell_type": "markdown",
   "metadata": {},
   "source": [
    "computing the cosine similarity matrix for the above matrix is very expensive and takes lot of time\n",
    "\n",
    "\n",
    "so one hack we can use is will compute the similarity matrix for particular user at run time whenever we need it.\n",
    "\n",
    "and store the user similarity matrix in dictionary of dictionary\n",
    "\n",
    "i.e {\n",
    "            'user_id':\n",
    "                            \n",
    "                             {\n",
    "                             \n",
    "                             \n",
    "                             'user_id' : cosine_sim_value\n",
    "                             \n",
    "                             }\n",
    "                             \n",
    "       }"
   ]
  },
  {
   "cell_type": "code",
   "execution_count": 47,
   "metadata": {},
   "outputs": [
    {
     "data": {
      "text/plain": [
       "Int64Index([  45227,   58430,   60310,   61681,  164551,  171425,  174977,\n",
       "             252368,  255612,  256618,\n",
       "            ...\n",
       "            1575643, 1575662, 1575671, 1575682, 1575695, 1575714, 1575730,\n",
       "            1575745, 1575759, 1575777],\n",
       "           dtype='int64', length=269)"
      ]
     },
     "execution_count": 47,
     "metadata": {},
     "output_type": "execute_result"
    }
   ],
   "source": [
    "merged_final[merged_final['user_id'] == 'user_18085@domain.com'].index"
   ]
  },
  {
   "cell_type": "code",
   "execution_count": 52,
   "metadata": {},
   "outputs": [
    {
     "data": {
      "text/plain": [
       "user_id             user_18085@domain.com\n",
       "user_age                               40\n",
       "gender                                  M\n",
       "location                        Telangana\n",
       "joining_date                   2018-12-08\n",
       "content_id                 cont_3036_5_26\n",
       "duration                          2220000\n",
       "date                           2020-04-11\n",
       "start_time                       21:56:19\n",
       "end_time                         22:33:19\n",
       "content_type                       series\n",
       "language                           telugu\n",
       "genre                               drama\n",
       "content_duration                  3780000\n",
       "release_date                   2004-10-02\n",
       "rating                                  8\n",
       "episode_count                          26\n",
       "season_count                            5\n",
       "Name: 58430, dtype: object"
      ]
     },
     "execution_count": 52,
     "metadata": {},
     "output_type": "execute_result"
    }
   ],
   "source": [
    "merged_final.loc[58430,:]"
   ]
  },
  {
   "cell_type": "code",
   "execution_count": null,
   "metadata": {},
   "outputs": [],
   "source": [
    "#recommendation\n",
    "def recommend(user_id):\n",
    "    #fetch the index of user_id from original dataframe\n",
    "    index = merged_final.index(user_id)\n",
    "    \n",
    "    #featch particular row from sim matrix\n",
    "    row = sim_matrix[index]\n",
    "    \n",
    "    r = range(len(sim_matrix[0]))\n",
    "    di = dict(zip(row,r))\n",
    "    \n",
    "    sorted_row = sorted(row,ascending = False)\n",
    "    fetch_10 = sorted_row[:10]\n",
    "    \n",
    "    fetch_10_index  = []\n",
    "    for i in fetch_10:\n",
    "        val = di.get(i)\n",
    "        fetch_10_index.append(val)\n",
    "        \n",
    "    list_of_contents = []\n",
    "    for j in featch_10_index:\n",
    "        cont_val = merged_final[j]['content_id']\n",
    "        list_of_contents.append(cont_val)\n",
    "        \n",
    "    return list_of_contents"
   ]
  },
  {
   "cell_type": "code",
   "execution_count": null,
   "metadata": {},
   "outputs": [],
   "source": [
    "#creating submission.json file\n",
    "import json\n",
    "test = pd.read_csv('test.csv')\n",
    "li_test = test['user_id']\n",
    "submission = dict()\n",
    "for i in li_test:\n",
    "    li = recommend(i)\n",
    "    submission[i] = li\n",
    "    \n",
    "with open('submission.json','w') as file:\n",
    "    json.dump(submission,file)\n",
    "    \n",
    "data_frame = pd.DataFrame(submission,columns = ['user_id','contents'])\n",
    "data_frame.to_csv('submission.csv')\n"
   ]
  }
 ],
 "metadata": {
  "kernelspec": {
   "display_name": "Python 3",
   "language": "python",
   "name": "python3"
  },
  "language_info": {
   "codemirror_mode": {
    "name": "ipython",
    "version": 3
   },
   "file_extension": ".py",
   "mimetype": "text/x-python",
   "name": "python",
   "nbconvert_exporter": "python",
   "pygments_lexer": "ipython3",
   "version": "3.7.6"
  }
 },
 "nbformat": 4,
 "nbformat_minor": 4
}
